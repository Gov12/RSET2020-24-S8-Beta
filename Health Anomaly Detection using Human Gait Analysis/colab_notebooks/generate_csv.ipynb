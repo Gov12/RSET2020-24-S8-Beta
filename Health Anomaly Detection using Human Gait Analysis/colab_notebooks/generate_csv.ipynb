{
  "cells": [
    {
      "cell_type": "code",
      "execution_count": null,
      "metadata": {
        "colab": {
          "background_save": true,
          "base_uri": "https://localhost:8080/"
        },
        "id": "zZ2j67Uq-2xw",
        "outputId": "21a9ec53-78e9-4d5c-f9f3-8c5a916b94d9"
      },
      "outputs": [
        {
          "name": "stdout",
          "output_type": "stream",
          "text": [
            "Requirement already satisfied: pandas in /usr/local/lib/python3.10/dist-packages (2.0.3)\n",
            "\u001b[31mERROR: Could not find a version that satisfies the requirement google_drive_downloader (from versions: none)\u001b[0m\u001b[31m\n",
            "\u001b[0m\u001b[31mERROR: No matching distribution found for google_drive_downloader\u001b[0m\u001b[31m\n",
            "\u001b[0m"
          ]
        }
      ],
      "source": [
        "pip install pandas google_drive_downloader\n"
      ]
    },
    {
      "cell_type": "code",
      "source": [
        "from google.colab import drive\n",
        "\n",
        "# Connect to Google Drive\n",
        "drive.mount('/content/drive/')"
      ],
      "metadata": {
        "colab": {
          "base_uri": "https://localhost:8080/"
        },
        "id": "3eY_0OFYLSoh",
        "outputId": "32b90c3d-2692-4530-e963-1f2dfc15f78c"
      },
      "execution_count": null,
      "outputs": [
        {
          "output_type": "stream",
          "name": "stdout",
          "text": [
            "Mounted at /content/drive/\n"
          ]
        }
      ]
    },
    {
      "cell_type": "code",
      "source": [
        "import os\n",
        "import pandas as pd\n",
        "from google.colab import drive\n",
        "\n",
        "# Define labels\n",
        "labels = {\n",
        "    \"Nose\": 0, \"Neck\": 1, \"RShoulder\": 2, \"RElbow\": 3, \"RWrist\": 4,\n",
        "    \"LShoulder\": 5, \"LElbow\": 6, \"LWrist\": 7, \"RHip\": 8, \"RKnee\": 9,\n",
        "    \"RAnkle\": 10, \"LHip\": 11, \"LKnee\": 12, \"LAnkle\": 13, \"REye\": 14,\n",
        "    \"LEye\": 15, \"REar\": 16, \"LEar\": 17, \"Background\": 18\n",
        "}\n",
        "\n",
        "# Path to the folder containing images in Google Drive\n",
        "google_drive_folder_path = '/content/drive/MyDrive/skeleton-pose/poses-pd/'\n",
        "\n",
        "# Path to the folder where you want to save the CSV file in Google Drive\n",
        "output_folder_path = '/content/drive/MyDrive/skeleton-pose'\n",
        "\n",
        "# Mount Google Drive\n",
        "drive.mount('/content/drive')\n",
        "\n",
        "# Function to generate CSV file\n",
        "def generate_csv():\n",
        "    csv_data = []\n",
        "\n",
        "    for filename in os.listdir(google_drive_folder_path):\n",
        "        if filename.endswith('.jpg'):\n",
        "            image_path = os.path.join(google_drive_folder_path, filename)\n",
        "            label_name = filename.split('_')[0]  # Extract label from filename\n",
        "            label = labels.get(label_name, -1)  # Get label value from dictionary\n",
        "            if label != -1:\n",
        "                csv_data.append([image_path, label])\n",
        "\n",
        "    # Convert data to DataFrame\n",
        "    df = pd.DataFrame(csv_data, columns=['Image_Path', 'Label'])\n",
        "\n",
        "    # Save DataFrame to CSV\n",
        "    csv_path = os.path.join(output_folder_path, 'labels.csv')\n",
        "    df.to_csv(csv_path, index=False)\n",
        "    print(f\"CSV file saved to: {csv_path}\")\n",
        "\n",
        "if __name__ == '__main__':\n",
        "    generate_csv()\n"
      ],
      "metadata": {
        "colab": {
          "base_uri": "https://localhost:8080/"
        },
        "id": "HMFK0uzdKsJT",
        "outputId": "260336b3-8e4d-4441-9a9a-0f0be2603669"
      },
      "execution_count": null,
      "outputs": [
        {
          "output_type": "stream",
          "name": "stdout",
          "text": [
            "Drive already mounted at /content/drive; to attempt to forcibly remount, call drive.mount(\"/content/drive\", force_remount=True).\n",
            "CSV file saved to: /content/drive/MyDrive/skeleton-pose/labels.csv\n"
          ]
        }
      ]
    }
  ],
  "metadata": {
    "accelerator": "GPU",
    "colab": {
      "gpuType": "T4",
      "provenance": []
    },
    "kernelspec": {
      "display_name": "Python 3",
      "name": "python3"
    },
    "language_info": {
      "name": "python"
    }
  },
  "nbformat": 4,
  "nbformat_minor": 0
}